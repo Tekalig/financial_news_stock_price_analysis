{
 "cells": [
  {
   "cell_type": "code",
   "execution_count": null,
   "id": "41e15c6ec9d4bb46",
   "metadata": {
    "ExecuteTime": {
     "end_time": "2024-12-13T21:58:16.444557Z",
     "start_time": "2024-12-13T21:58:11.854791Z"
    }
   },
   "outputs": [],
   "source": [
    "import os\n",
    "import sys\n",
    "import matplotlib.pyplot as plt\n",
    "\n",
    "# Add the src folder to the path\n",
    "sys.path.append(os.path.join(os.getcwd(), '../'))\n",
    "\n",
    "# Import functions from the src\n",
    "from src.data_loader import load_stock_data\n",
    "from src.indicators import calculate_moving_averages, calculate_rsi, calculate_macd\n",
    "from src.stock_visualization import plot_moving_averages, plot_macd"
   ]
  },
  {
   "cell_type": "code",
   "execution_count": null,
   "id": "471d82e9640f8f59",
   "metadata": {
    "ExecuteTime": {
     "end_time": "2024-12-13T21:59:07.861591Z",
     "start_time": "2024-12-13T21:59:07.280978Z"
    }
   },
   "outputs": [],
   "source": [
    "# Load the stock data for apple\n",
    "data_filepath = '../data/yfinance_data/AAPL_historical_data.csv'\n",
    "stock_data = load_stock_data(data_filepath)"
   ]
  },
  {
   "cell_type": "code",
   "execution_count": null,
   "id": "5f7098f151769e31",
   "metadata": {
    "ExecuteTime": {
     "end_time": "2024-12-13T21:59:36.295855Z",
     "start_time": "2024-12-13T21:59:09.402866Z"
    }
   },
   "outputs": [],
   "source": [
    "# Ensure data is loaded\n",
    "if stock_data is not None:\n",
    "    # Calculate indicators for analysis\n",
    "    sma = calculate_moving_averages(stock_data, period=30)\n",
    "    rsi = calculate_rsi(stock_data, period=14)\n",
    "    macd, macd_signal, macd_hist = calculate_macd(stock_data)\n",
    "\n",
    "    # Add indicators to DataFrame for further inspection\n",
    "    stock_data['SMA'] = sma\n",
    "    stock_data['RSI'] = rsi\n",
    "    stock_data['MACD'] = macd\n",
    "    stock_data['Signal Line'] = macd_signal\n",
    "    stock_data['Histogram'] = macd_hist\n",
    "\n",
    "    # Visualize the results\n",
    "    fig = plot_moving_averages(stock_data, sma)\n",
    "    fig.savefig('../screenshots/moving_averages.png')\n",
    "    plt.close(fig)\n",
    "    fig = plot_macd(stock_data, macd, macd_signal, macd_hist)\n",
    "    fig.savefig('../screenshots/macd.png')\n",
    "    plt.close(fig)\n",
    "else:\n",
    "    print(\"Failed to load stock data.\")\n"
   ]
  }
 ],
 "metadata": {
  "kernelspec": {
   "display_name": ".venv",
   "language": "python",
   "name": "python3"
  },
  "language_info": {
   "codemirror_mode": {
    "name": "ipython",
    "version": 3
   },
   "file_extension": ".py",
   "mimetype": "text/x-python",
   "name": "python",
   "nbconvert_exporter": "python",
   "pygments_lexer": "ipython3",
   "version": "3.12.3"
  }
 },
 "nbformat": 4,
 "nbformat_minor": 5
}
