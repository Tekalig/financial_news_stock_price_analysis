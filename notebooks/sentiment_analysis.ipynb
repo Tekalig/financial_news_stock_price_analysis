{
 "cells": [
  {
   "cell_type": "code",
   "execution_count": 19,
   "id": "e016b0f4ca13eb1a",
   "metadata": {
    "ExecuteTime": {
     "end_time": "2024-12-18T17:53:57.230269Z",
     "start_time": "2024-12-18T17:53:35.956810Z"
    }
   },
   "outputs": [],
   "source": [
    "import os\n",
    "import sys\n",
    "import matplotlib.pyplot as plt\n",
    "\n",
    "# Add the src directory to the path\n",
    "sys.path.append(os.path.join(os.getcwd(), '../'))\n",
    "# Import necessary classes from the src\n",
    "from src.sentimental_analysis import SentimentAnalyzer\n",
    "from src.data_loader import load_news_data"
   ]
  },
  {
   "cell_type": "code",
   "execution_count": 21,
   "id": "f23dfb9807b821a9",
   "metadata": {
    "ExecuteTime": {
     "end_time": "2024-12-18T17:54:17.676002Z",
     "start_time": "2024-12-18T17:53:57.279365Z"
    }
   },
   "outputs": [],
   "source": [
    "# Load the news data\n",
    "file_path = \"../data/stock_news_data/raw_analyst_ratings.csv\"\n",
    "news_data = load_news_data(file_path)"
   ]
  },
  {
   "cell_type": "code",
   "execution_count": 22,
   "id": "3c0d5f1c",
   "metadata": {},
   "outputs": [],
   "source": [
    "news_data.rename(columns={'Unnamed: 0': 'date'}, inplace=True)"
   ]
  },
  {
   "cell_type": "code",
   "execution_count": null,
   "id": "787d44311191d9e",
   "metadata": {
    "ExecuteTime": {
     "end_time": "2024-12-18T17:54:18.881718Z",
     "start_time": "2024-12-18T17:54:18.863739Z"
    }
   },
   "outputs": [],
   "source": [
    "# Initialize the SentimentAnalyzer class and perform sentiment analysis\n",
    "sentiment_analyzer = SentimentAnalyzer(news_data)"
   ]
  },
  {
   "cell_type": "code",
   "execution_count": null,
   "id": "e53373ecacd62ff2",
   "metadata": {
    "ExecuteTime": {
     "end_time": "2024-12-18T18:01:36.536401Z",
     "start_time": "2024-12-18T17:54:18.920562Z"
    }
   },
   "outputs": [],
   "source": [
    "news_data = sentiment_analyzer.perform_sentiment_analysis()"
   ]
  },
  {
   "cell_type": "code",
   "execution_count": 25,
   "id": "e2273527367308c6",
   "metadata": {
    "ExecuteTime": {
     "end_time": "2024-12-18T18:08:15.341075Z",
     "start_time": "2024-12-18T18:08:15.242507Z"
    }
   },
   "outputs": [
    {
     "data": {
      "text/html": [
       "<div>\n",
       "<style scoped>\n",
       "    .dataframe tbody tr th:only-of-type {\n",
       "        vertical-align: middle;\n",
       "    }\n",
       "\n",
       "    .dataframe tbody tr th {\n",
       "        vertical-align: top;\n",
       "    }\n",
       "\n",
       "    .dataframe thead th {\n",
       "        text-align: right;\n",
       "    }\n",
       "</style>\n",
       "<table border=\"1\" class=\"dataframe\">\n",
       "  <thead>\n",
       "    <tr style=\"text-align: right;\">\n",
       "      <th></th>\n",
       "      <th>date</th>\n",
       "      <th>headline</th>\n",
       "      <th>url</th>\n",
       "      <th>publisher</th>\n",
       "      <th>stock</th>\n",
       "    </tr>\n",
       "    <tr>\n",
       "      <th>date</th>\n",
       "      <th></th>\n",
       "      <th></th>\n",
       "      <th></th>\n",
       "      <th></th>\n",
       "      <th></th>\n",
       "    </tr>\n",
       "  </thead>\n",
       "  <tbody>\n",
       "    <tr>\n",
       "      <th>2020-06-05 10:30:54-04:00</th>\n",
       "      <td>0</td>\n",
       "      <td>Stocks That Hit 52-Week Highs On Friday</td>\n",
       "      <td>https://www.benzinga.com/news/20/06/16190091/s...</td>\n",
       "      <td>Benzinga Insights</td>\n",
       "      <td>A</td>\n",
       "    </tr>\n",
       "    <tr>\n",
       "      <th>2020-06-03 10:45:20-04:00</th>\n",
       "      <td>1</td>\n",
       "      <td>Stocks That Hit 52-Week Highs On Wednesday</td>\n",
       "      <td>https://www.benzinga.com/news/20/06/16170189/s...</td>\n",
       "      <td>Benzinga Insights</td>\n",
       "      <td>A</td>\n",
       "    </tr>\n",
       "    <tr>\n",
       "      <th>2020-05-26 04:30:07-04:00</th>\n",
       "      <td>2</td>\n",
       "      <td>71 Biggest Movers From Friday</td>\n",
       "      <td>https://www.benzinga.com/news/20/05/16103463/7...</td>\n",
       "      <td>Lisa Levin</td>\n",
       "      <td>A</td>\n",
       "    </tr>\n",
       "    <tr>\n",
       "      <th>2020-05-22 12:45:06-04:00</th>\n",
       "      <td>3</td>\n",
       "      <td>46 Stocks Moving In Friday's Mid-Day Session</td>\n",
       "      <td>https://www.benzinga.com/news/20/05/16095921/4...</td>\n",
       "      <td>Lisa Levin</td>\n",
       "      <td>A</td>\n",
       "    </tr>\n",
       "    <tr>\n",
       "      <th>2020-05-22 11:38:59-04:00</th>\n",
       "      <td>4</td>\n",
       "      <td>B of A Securities Maintains Neutral on Agilent...</td>\n",
       "      <td>https://www.benzinga.com/news/20/05/16095304/b...</td>\n",
       "      <td>Vick Meyer</td>\n",
       "      <td>A</td>\n",
       "    </tr>\n",
       "  </tbody>\n",
       "</table>\n",
       "</div>"
      ],
      "text/plain": [
       "                           date  \\\n",
       "date                              \n",
       "2020-06-05 10:30:54-04:00     0   \n",
       "2020-06-03 10:45:20-04:00     1   \n",
       "2020-05-26 04:30:07-04:00     2   \n",
       "2020-05-22 12:45:06-04:00     3   \n",
       "2020-05-22 11:38:59-04:00     4   \n",
       "\n",
       "                                                                    headline  \\\n",
       "date                                                                           \n",
       "2020-06-05 10:30:54-04:00            Stocks That Hit 52-Week Highs On Friday   \n",
       "2020-06-03 10:45:20-04:00         Stocks That Hit 52-Week Highs On Wednesday   \n",
       "2020-05-26 04:30:07-04:00                      71 Biggest Movers From Friday   \n",
       "2020-05-22 12:45:06-04:00       46 Stocks Moving In Friday's Mid-Day Session   \n",
       "2020-05-22 11:38:59-04:00  B of A Securities Maintains Neutral on Agilent...   \n",
       "\n",
       "                                                                         url  \\\n",
       "date                                                                           \n",
       "2020-06-05 10:30:54-04:00  https://www.benzinga.com/news/20/06/16190091/s...   \n",
       "2020-06-03 10:45:20-04:00  https://www.benzinga.com/news/20/06/16170189/s...   \n",
       "2020-05-26 04:30:07-04:00  https://www.benzinga.com/news/20/05/16103463/7...   \n",
       "2020-05-22 12:45:06-04:00  https://www.benzinga.com/news/20/05/16095921/4...   \n",
       "2020-05-22 11:38:59-04:00  https://www.benzinga.com/news/20/05/16095304/b...   \n",
       "\n",
       "                                   publisher stock  \n",
       "date                                                \n",
       "2020-06-05 10:30:54-04:00  Benzinga Insights     A  \n",
       "2020-06-03 10:45:20-04:00  Benzinga Insights     A  \n",
       "2020-05-26 04:30:07-04:00         Lisa Levin     A  \n",
       "2020-05-22 12:45:06-04:00         Lisa Levin     A  \n",
       "2020-05-22 11:38:59-04:00         Vick Meyer     A  "
      ]
     },
     "execution_count": 25,
     "metadata": {},
     "output_type": "execute_result"
    }
   ],
   "source": [
    "# Display the sentiment analysis results\n",
    "news_data.head()\n"
   ]
  },
  {
   "cell_type": "code",
   "execution_count": null,
   "id": "50f3b462267c1a98",
   "metadata": {
    "ExecuteTime": {
     "end_time": "2024-12-18T18:02:15.718450Z",
     "start_time": "2024-12-18T18:01:40.959063Z"
    }
   },
   "outputs": [
    {
     "data": {
      "text/plain": [
       "array(['earnings', 'eps', 'est', 'market', 'reports', 'sales', 'shares',\n",
       "       'stocks', 'update', 'vs'], dtype=object)"
      ]
     },
     "execution_count": 10,
     "metadata": {},
     "output_type": "execute_result"
    }
   ],
   "source": [
    "# Extract the most common keywords from the headlines\n",
    "keywords = sentiment_analyzer.extract_keywords(max_features=10)\n",
    "keywords"
   ]
  },
  {
   "cell_type": "code",
   "execution_count": null,
   "id": "571fb37a23016664",
   "metadata": {
    "ExecuteTime": {
     "end_time": "2024-12-18T18:02:23.632256Z",
     "start_time": "2024-12-18T18:02:19.129751Z"
    }
   },
   "outputs": [],
   "source": [
    "# Perform sentiment analysis on category using pie chart\n",
    "fig = sentiment_analyzer.pi_chart_sentiment_distribution()\n",
    "fig.savefig(\"../screenshots/sentiment_distribution.png\")\n",
    "plt.close(fig)"
   ]
  },
  {
   "cell_type": "code",
   "execution_count": null,
   "id": "46d80ded313c2b93",
   "metadata": {
    "ExecuteTime": {
     "end_time": "2024-12-18T18:02:28.584456Z",
     "start_time": "2024-12-18T18:02:24.800805Z"
    }
   },
   "outputs": [
    {
     "name": "stderr",
     "output_type": "stream",
     "text": [
      "/home/besu/PycharmProjects/Ten Academy Project/financial_news_stock_price_analysis/notebooks/../src/sentimental_analysis.py:83: FutureWarning: 'M' is deprecated and will be removed in a future version, please use 'ME' instead.\n",
      "  filtered_data.groupby([pd.Grouper(key=\"date\", freq=\"M\"), \"publisher\"])\n",
      "/home/besu/PycharmProjects/Ten Academy Project/financial_news_stock_price_analysis/notebooks/../src/sentimental_analysis.py:101: UserWarning: Tight layout not applied. The bottom and top margins cannot be made large enough to accommodate all Axes decorations.\n",
      "  plt.tight_layout()\n"
     ]
    }
   ],
   "source": [
    "# Plot publisher activity\n",
    "fig = sentiment_analyzer.plot_publisher_activity()\n",
    "fig.savefig(\"../screenshots/publisher_activity.png\")\n",
    "plt.close(fig)"
   ]
  },
  {
   "cell_type": "code",
   "execution_count": 23,
   "id": "da05485ab7b79d16",
   "metadata": {
    "ExecuteTime": {
     "end_time": "2024-12-18T18:02:28.592105600Z",
     "start_time": "2024-12-18T17:48:24.729529Z"
    }
   },
   "outputs": [
    {
     "data": {
      "text/html": [
       "<div>\n",
       "<style scoped>\n",
       "    .dataframe tbody tr th:only-of-type {\n",
       "        vertical-align: middle;\n",
       "    }\n",
       "\n",
       "    .dataframe tbody tr th {\n",
       "        vertical-align: top;\n",
       "    }\n",
       "\n",
       "    .dataframe thead th {\n",
       "        text-align: right;\n",
       "    }\n",
       "</style>\n",
       "<table border=\"1\" class=\"dataframe\">\n",
       "  <thead>\n",
       "    <tr style=\"text-align: right;\">\n",
       "      <th></th>\n",
       "      <th>publisher</th>\n",
       "      <th>average_sentiment</th>\n",
       "      <th>article_count</th>\n",
       "    </tr>\n",
       "  </thead>\n",
       "  <tbody>\n",
       "    <tr>\n",
       "      <th>0</th>\n",
       "      <td>47ertrends</td>\n",
       "      <td>0.000000</td>\n",
       "      <td>18</td>\n",
       "    </tr>\n",
       "    <tr>\n",
       "      <th>1</th>\n",
       "      <td>AARP</td>\n",
       "      <td>0.012755</td>\n",
       "      <td>7</td>\n",
       "    </tr>\n",
       "    <tr>\n",
       "      <th>2</th>\n",
       "      <td>ABNNewswire</td>\n",
       "      <td>-0.027816</td>\n",
       "      <td>13</td>\n",
       "    </tr>\n",
       "    <tr>\n",
       "      <th>3</th>\n",
       "      <td>Aakin</td>\n",
       "      <td>0.207273</td>\n",
       "      <td>5</td>\n",
       "    </tr>\n",
       "    <tr>\n",
       "      <th>4</th>\n",
       "      <td>Aaron Jackson.Ed</td>\n",
       "      <td>0.485417</td>\n",
       "      <td>16</td>\n",
       "    </tr>\n",
       "    <tr>\n",
       "      <th>...</th>\n",
       "      <td>...</td>\n",
       "      <td>...</td>\n",
       "      <td>...</td>\n",
       "    </tr>\n",
       "    <tr>\n",
       "      <th>1029</th>\n",
       "      <td>vic@forextraininggroup.com</td>\n",
       "      <td>0.000000</td>\n",
       "      <td>1</td>\n",
       "    </tr>\n",
       "    <tr>\n",
       "      <th>1030</th>\n",
       "      <td>vishwanath@benzinga.com</td>\n",
       "      <td>0.013904</td>\n",
       "      <td>1830</td>\n",
       "    </tr>\n",
       "    <tr>\n",
       "      <th>1031</th>\n",
       "      <td>vivek.proactive@gmail.com</td>\n",
       "      <td>-0.001250</td>\n",
       "      <td>120</td>\n",
       "    </tr>\n",
       "    <tr>\n",
       "      <th>1032</th>\n",
       "      <td>wallstreet1928</td>\n",
       "      <td>0.079167</td>\n",
       "      <td>8</td>\n",
       "    </tr>\n",
       "    <tr>\n",
       "      <th>1033</th>\n",
       "      <td>webmaster</td>\n",
       "      <td>0.008138</td>\n",
       "      <td>20313</td>\n",
       "    </tr>\n",
       "  </tbody>\n",
       "</table>\n",
       "<p>1034 rows × 3 columns</p>\n",
       "</div>"
      ],
      "text/plain": [
       "                       publisher  average_sentiment  article_count\n",
       "0                     47ertrends           0.000000             18\n",
       "1                           AARP           0.012755              7\n",
       "2                    ABNNewswire          -0.027816             13\n",
       "3                          Aakin           0.207273              5\n",
       "4               Aaron Jackson.Ed           0.485417             16\n",
       "...                          ...                ...            ...\n",
       "1029  vic@forextraininggroup.com           0.000000              1\n",
       "1030     vishwanath@benzinga.com           0.013904           1830\n",
       "1031   vivek.proactive@gmail.com          -0.001250            120\n",
       "1032              wallstreet1928           0.079167              8\n",
       "1033                   webmaster           0.008138          20313\n",
       "\n",
       "[1034 rows x 3 columns]"
      ]
     },
     "execution_count": 23,
     "metadata": {},
     "output_type": "execute_result"
    }
   ],
   "source": [
    "# Display the sentiment analysis results by publisher\n",
    "sentiment_summary = sentiment_analyzer.calculate_publisher_sentiment()\n",
    "sentiment_summary"
   ]
  },
  {
   "cell_type": "code",
   "execution_count": 24,
   "id": "3162314f3e4a6726",
   "metadata": {
    "ExecuteTime": {
     "end_time": "2024-12-18T18:02:29.006391457Z",
     "start_time": "2024-12-18T17:48:28.497212Z"
    }
   },
   "outputs": [],
   "source": [
    "# Display the sentiment analysis results by publisher\n",
    "fig = sentiment_analyzer.plot_publisher_sentiment(sentiment_summary)\n",
    "fig.savefig(\"../screenshots/publisher_sentiment.png\")\n",
    "plt.close(fig)"
   ]
  }
 ],
 "metadata": {
  "kernelspec": {
   "display_name": ".venv",
   "language": "python",
   "name": "python3"
  },
  "language_info": {
   "codemirror_mode": {
    "name": "ipython",
    "version": 3
   },
   "file_extension": ".py",
   "mimetype": "text/x-python",
   "name": "python",
   "nbconvert_exporter": "python",
   "pygments_lexer": "ipython3",
   "version": "3.12.3"
  }
 },
 "nbformat": 4,
 "nbformat_minor": 5
}
