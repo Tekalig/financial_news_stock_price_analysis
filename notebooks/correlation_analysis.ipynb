{
 "cells": [
  {
   "cell_type": "code",
   "execution_count": 1,
   "id": "ecffe2bb15feb628",
   "metadata": {},
   "outputs": [],
   "source": [
    "import os\n",
    "import sys\n",
    "import matplotlib.pyplot as plt\n",
    "\n",
    "# Add the src folder to the path\n",
    "sys.path.append(os.path.join(os.getcwd(), '../'))\n",
    "# Import functions\n",
    "from src.data_loader import load_stock_data, load_news_data\n",
    "from src.sentimental_analysis import SentimentAnalyzer\n",
    "from src.correlation_analysis import align_datasets, calculate_daily_returns, calculate_correlation\n",
    "from src.stock_visualization import plot_sentiment_vs_returns"
   ]
  },
  {
   "cell_type": "code",
   "execution_count": 2,
   "id": "5b9cc109162f3d43",
   "metadata": {},
   "outputs": [],
   "source": [
    "# Load datasets\n",
    "stock_data = load_stock_data('../data/yfinance_data/AAPL_historical_data.csv')\n",
    "news_data = load_news_data('../data/stock_news_data/raw_analyst_ratings.csv')"
   ]
  },
  {
   "cell_type": "code",
   "execution_count": 3,
   "id": "35069c2314adf6cf",
   "metadata": {},
   "outputs": [],
   "source": [
    "# Perform sentiment analysis\n",
    "sentiment_analyzer = SentimentAnalyzer(news_data)\n",
    "news_data = sentiment_analyzer.perform_sentiment_analysis()"
   ]
  },
  {
   "cell_type": "code",
   "execution_count": null,
   "id": "45984708e46ac0cf",
   "metadata": {},
   "outputs": [],
   "source": [
    "# Align datasets by date\n",
    "merged_data = align_datasets(stock_data, news_data)"
   ]
  },
  {
   "cell_type": "code",
   "execution_count": null,
   "id": "3bf604d934bc9c88",
   "metadata": {},
   "outputs": [],
   "source": [
    "# Calculate daily stock returns\n",
    "stock_data = calculate_daily_returns(stock_data)"
   ]
  },
  {
   "cell_type": "code",
   "execution_count": null,
   "id": "1bfbac6881c685a0",
   "metadata": {},
   "outputs": [],
   "source": [
    "# Merge stock data and sentiment data\n",
    "correlation = calculate_correlation(merged_data)\n",
    "print(f\"Pearson Correlation Coefficient: {correlation}\")"
   ]
  },
  {
   "cell_type": "code",
   "execution_count": null,
   "id": "40d916b2faf5c1ac",
   "metadata": {},
   "outputs": [],
   "source": [
    "# Plot sentiment vs. stock returns\n",
    "fig = plot_sentiment_vs_returns(merged_data)\n",
    "fig.savefig('../screenshots/sentiment_vs_returns.png')\n",
    "plt.close(fig)"
   ]
  }
 ],
 "metadata": {
  "kernelspec": {
   "display_name": ".venv",
   "language": "python",
   "name": "python3"
  },
  "language_info": {
   "codemirror_mode": {
    "name": "ipython",
    "version": 3
   },
   "file_extension": ".py",
   "mimetype": "text/x-python",
   "name": "python",
   "nbconvert_exporter": "python",
   "pygments_lexer": "ipython3",
   "version": "3.12.3"
  }
 },
 "nbformat": 4,
 "nbformat_minor": 5
}
