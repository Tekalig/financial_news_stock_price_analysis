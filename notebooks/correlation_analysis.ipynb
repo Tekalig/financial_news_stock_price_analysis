{
 "cells": [
  {
   "metadata": {},
   "cell_type": "code",
   "source": [
    "# Import functions\n",
    "from scripts.data_loader import load_stock_data, load_news_data\n",
    "from scripts.sentimental_analysis import SentimentAnalyzer\n",
    "from scripts.correlation_analysis import align_datasets, calculate_daily_returns, calculate_correlation\n",
    "from scripts.stock_visualization import plot_sentiment_vs_returns"
   ],
   "id": "ecffe2bb15feb628",
   "outputs": [],
   "execution_count": null
  },
  {
   "metadata": {},
   "cell_type": "code",
   "source": [
    "# Load datasets\n",
    "stock_data = load_stock_data('../src/data/yfinance_data/AAPL_historical_data.csv')\n",
    "news_data = load_news_data('../src/data/stock_news_data/raw_analyst_ratings.csv')"
   ],
   "id": "5b9cc109162f3d43",
   "outputs": [],
   "execution_count": null
  },
  {
   "metadata": {},
   "cell_type": "code",
   "source": [
    "# Perform sentiment analysis\n",
    "sentiment_analyzer = SentimentAnalyzer(news_data)\n",
    "news_data = sentiment_analyzer.perform_sentiment_analysis()"
   ],
   "id": "35069c2314adf6cf",
   "outputs": [],
   "execution_count": null
  },
  {
   "metadata": {},
   "cell_type": "code",
   "source": [
    "# Align datasets by date\n",
    "merged_data = align_datasets(stock_data, news_data)"
   ],
   "id": "45984708e46ac0cf",
   "outputs": [],
   "execution_count": null
  },
  {
   "metadata": {},
   "cell_type": "code",
   "source": [
    "# Calculate daily stock returns\n",
    "stock_data = calculate_daily_returns(stock_data)"
   ],
   "id": "3bf604d934bc9c88",
   "outputs": [],
   "execution_count": null
  },
  {
   "metadata": {},
   "cell_type": "code",
   "source": [
    "# Merge stock data and sentiment data\n",
    "correlation = calculate_correlation(merged_data)\n",
    "print(f\"Pearson Correlation Coefficient: {correlation}\")"
   ],
   "id": "1bfbac6881c685a0",
   "outputs": [],
   "execution_count": null
  },
  {
   "metadata": {},
   "cell_type": "code",
   "source": [
    "# Plot sentiment vs. stock returns\n",
    "plot_sentiment_vs_returns(merged_data)\n"
   ],
   "id": "40d916b2faf5c1ac",
   "outputs": [],
   "execution_count": null
  }
 ],
 "metadata": {
  "kernelspec": {
   "display_name": "Python 3",
   "language": "python",
   "name": "python3"
  },
  "language_info": {
   "codemirror_mode": {
    "name": "ipython",
    "version": 2
   },
   "file_extension": ".py",
   "mimetype": "text/x-python",
   "name": "python",
   "nbconvert_exporter": "python",
   "pygments_lexer": "ipython2",
   "version": "2.7.6"
  }
 },
 "nbformat": 4,
 "nbformat_minor": 5
}
