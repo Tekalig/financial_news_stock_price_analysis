{
 "cells": [
  {
   "metadata": {},
   "cell_type": "code",
   "outputs": [],
   "execution_count": null,
   "source": [
    "# Import functions from the scripts\n",
    "from scripts.data_loader import load_stock_data\n",
    "from scripts.indicators import calculate_moving_averages, calculate_rsi, calculate_macd\n",
    "from scripts.stock_visualization import plot_moving_averages, plot_macd"
   ],
   "id": "41e15c6ec9d4bb46"
  },
  {
   "metadata": {},
   "cell_type": "code",
   "outputs": [],
   "execution_count": null,
   "source": [
    "# Load the stock data (reuse Task 1's loading function)\n",
    "data_filepath = '../src/data/AAPL_historical_data.csv'\n",
    "stock_data = load_stock_data(data_filepath)"
   ],
   "id": "471d82e9640f8f59"
  },
  {
   "metadata": {},
   "cell_type": "code",
   "outputs": [],
   "execution_count": null,
   "source": [
    "# Ensure data is loaded\n",
    "if stock_data is not None:\n",
    "    # Calculate indicators for analysis\n",
    "    sma = calculate_moving_averages(stock_data, period=30)\n",
    "    rsi = calculate_rsi(stock_data, period=14)\n",
    "    macd, macd_signal, macd_hist = calculate_macd(stock_data)\n",
    "\n",
    "    # Add indicators to DataFrame for further inspection\n",
    "    stock_data['SMA'] = sma\n",
    "    stock_data['RSI'] = rsi\n",
    "    stock_data['MACD'] = macd\n",
    "    stock_data['Signal Line'] = macd_signal\n",
    "    stock_data['Histogram'] = macd_hist\n",
    "\n",
    "    # Visualize the results\n",
    "    plot_moving_averages(stock_data, sma)\n",
    "    plot_macd(stock_data, macd, macd_signal, macd_hist)\n",
    "else:\n",
    "    print(\"Failed to load stock data.\")\n"
   ],
   "id": "5f7098f151769e31"
  }
 ],
 "metadata": {
  "kernelspec": {
   "display_name": "Python 3",
   "language": "python",
   "name": "python3"
  },
  "language_info": {
   "codemirror_mode": {
    "name": "ipython",
    "version": 2
   },
   "file_extension": ".py",
   "mimetype": "text/x-python",
   "name": "python",
   "nbconvert_exporter": "python",
   "pygments_lexer": "ipython2",
   "version": "2.7.6"
  }
 },
 "nbformat": 4,
 "nbformat_minor": 5
}
