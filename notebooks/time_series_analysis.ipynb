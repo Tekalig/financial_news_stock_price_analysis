{
 "cells": [
  {
   "cell_type": "code",
   "execution_count": 1,
   "id": "8e2118f103671be9",
   "metadata": {
    "ExecuteTime": {
     "end_time": "2024-12-13T12:44:41.205161Z",
     "start_time": "2024-12-13T12:44:41.182646Z"
    }
   },
   "outputs": [],
   "source": [
    "# Import pandas and matplotlib\n",
    "import os\n",
    "import sys\n",
    "sys.path.append(os.path.join(os.getcwd(), '../'))\n",
    "import matplotlib.pyplot as plt\n",
    "import pandas as pd\n",
    "\n",
    "# Import necessary classes from the src\n",
    "from src.time_series_analysis import TimeSeriesAnalyzer, plot_stock_data, plot_time_series\n",
    "from src.utils import StockDataLoader"
   ]
  },
  {
   "cell_type": "code",
   "execution_count": 2,
   "id": "f385b6875afb835a",
   "metadata": {
    "ExecuteTime": {
     "end_time": "2024-12-13T12:43:13.578576Z",
     "start_time": "2024-12-13T12:43:01.787036Z"
    }
   },
   "outputs": [],
   "source": [
    "# Load the news data\n",
    "file_path = \"../data/stock_news_data/raw_analyst_ratings.csv\"\n",
    "news_data = pd.read_csv(file_path, parse_dates=[\"date\"])"
   ]
  },
  {
   "cell_type": "code",
   "execution_count": 3,
   "id": "8a512a8c2525f2a8",
   "metadata": {
    "ExecuteTime": {
     "end_time": "2024-12-13T12:43:19.336320Z",
     "start_time": "2024-12-13T12:43:19.311225Z"
    }
   },
   "outputs": [],
   "source": [
    "# Initialize the TimeSeriesAnalyzer class and perform time series analysis\n",
    "time_series_analyzer = TimeSeriesAnalyzer(news_data)"
   ]
  },
  {
   "cell_type": "code",
   "execution_count": 4,
   "id": "7a683ca251bd2127",
   "metadata": {
    "ExecuteTime": {
     "end_time": "2024-12-13T12:44:45.587401Z",
     "start_time": "2024-12-13T12:44:44.474620Z"
    }
   },
   "outputs": [],
   "source": [
    "# Analyze publication frequency and plot the results\n",
    "publication_frequency = time_series_analyzer.analyze_publication_frequency()\n",
    "fig = plot_time_series(\n",
    "    publication_frequency,\n",
    "    \"Publication Frequency Over Time\",\n",
    "    \"Date\",\n",
    "    \"Number of Articles\",\n",
    ")\n",
    "\n",
    "fig.savefig(\"../screenshots/publication_frequency.png\")\n",
    "plt.close(fig)"
   ]
  },
  {
   "cell_type": "code",
   "execution_count": 5,
   "id": "5dc1d1628accfd9",
   "metadata": {
    "ExecuteTime": {
     "end_time": "2024-12-13T12:44:54.241860Z",
     "start_time": "2024-12-13T12:44:53.270092Z"
    }
   },
   "outputs": [],
   "source": [
    "# Analyze publishing times and plot the results\n",
    "publishing_times = time_series_analyzer.analyze_publishing_times()\n",
    "fig, ax = plt.subplots(figsize=(10, 6))\n",
    "publishing_times.plot(kind='bar', ax=ax)\n",
    "ax.set_title(\"Publishing Times Distribution\")\n",
    "ax.set_xlabel(\"Hour\")\n",
    "ax.set_ylabel(\"Number of Articles\")\n",
    "fig.savefig(\"../screenshots/publishing_times_distribution.png\")\n",
    "plt.close(fig)"
   ]
  },
  {
   "cell_type": "code",
   "execution_count": 6,
   "id": "3a70a9824d31a577",
   "metadata": {
    "ExecuteTime": {
     "end_time": "2024-12-13T12:45:13.420748Z",
     "start_time": "2024-12-13T12:45:12.822914Z"
    }
   },
   "outputs": [],
   "source": [
    "# Load and plot stock data for all tickers\n",
    "stock_loader = StockDataLoader()\n",
    "stock_data_dict = stock_loader.load_all_stock_data()"
   ]
  },
  {
   "cell_type": "code",
   "execution_count": 7,
   "id": "5749f26ff64c5fb8",
   "metadata": {
    "ExecuteTime": {
     "end_time": "2024-12-13T12:45:20.006144Z",
     "start_time": "2024-12-13T12:45:16.033245Z"
    }
   },
   "outputs": [],
   "source": [
    "# Plot stock data for each ticker\n",
    "for ticker, stock_data in stock_data_dict.items():\n",
    "    fig = plot_stock_data(stock_data, ticker)\n",
    "    fig.savefig(f\"../screenshots/{ticker}_stock_data.png\")\n",
    "    plt.close(fig)\n"
   ]
  }
 ],
 "metadata": {
  "kernelspec": {
   "display_name": ".venv",
   "language": "python",
   "name": "python3"
  },
  "language_info": {
   "codemirror_mode": {
    "name": "ipython",
    "version": 3
   },
   "file_extension": ".py",
   "mimetype": "text/x-python",
   "name": "python",
   "nbconvert_exporter": "python",
   "pygments_lexer": "ipython3",
   "version": "3.12.3"
  }
 },
 "nbformat": 4,
 "nbformat_minor": 5
}
